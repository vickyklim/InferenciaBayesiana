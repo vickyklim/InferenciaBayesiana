{
  "nbformat": 4,
  "nbformat_minor": 0,
  "metadata": {
    "colab": {
      "provenance": []
    },
    "kernelspec": {
      "name": "python3",
      "display_name": "Python 3"
    },
    "language_info": {
      "name": "python"
    }
  },
  "cells": [
    {
      "cell_type": "markdown",
      "source": [
        "#1. Modelo Base vs. Modelo Monty Hall\n",
        "##1.1"
      ],
      "metadata": {
        "id": "lv2v1lp8TsSg"
      }
    },
    {
      "cell_type": "code",
      "source": [
        "import pandas as pd\n",
        "import numpy as np\n",
        "import math\n",
        "import matplotlib.pyplot as plt"
      ],
      "metadata": {
        "id": "BrjJKUscVHkI"
      },
      "execution_count": 1,
      "outputs": []
    },
    {
      "cell_type": "code",
      "execution_count": 2,
      "metadata": {
        "id": "zYPLZMVgS2q1"
      },
      "outputs": [],
      "source": [
        "def pr(r):\n",
        "  return 1/3 #para todas las hipotesis devuelvo 1/3\n",
        "\n",
        "def pc(c):\n",
        "  return 1/3\n",
        "\n",
        "def ps_rM0(s,r): #proba de s dado r del modelo M0\n",
        "  return (s != r) * 1/2 #1/2 o 0 segun verdad del (...)\n",
        "\n",
        "def ps_rcM1(s,r,c):\n",
        "  if r != c:\n",
        "    return (s != r) * (c != s) * 1\n",
        "  else:\n",
        "    return (s != r) * 1/2"
      ]
    },
    {
      "cell_type": "code",
      "source": [
        "def prcs_M(r,c,s,m):  #proba conjunta\n",
        "  if m == 0:\n",
        "    return pr(r)*pc(c)*ps_rM0(s,r)\n",
        "  if m == 1:\n",
        "    return pr(r)*pc(c)*ps_rcM1(s,r,c)"
      ],
      "metadata": {
        "id": "QDUGZHt3VKFA"
      },
      "execution_count": 3,
      "outputs": []
    },
    {
      "cell_type": "markdown",
      "source": [
        "##1.2"
      ],
      "metadata": {
        "id": "ZS8AvUD1V9ae"
      }
    },
    {
      "cell_type": "code",
      "source": [
        "#c y m estan fijos. tengo que recorrer todos los otros valores dejandolos fijos.\n",
        "H = np.arange(3) #posibles valores de las hipotesis\n",
        "\n",
        "def ps_cM(s,c,m): #posterior de s dado c P(s|c,M)=P(s,c|M)/P(c|M); P(s,c|M) es marginal de la conjunta\n",
        "  num = 0 #P(s,c|M) = sum_r P(r,c,s|M)\n",
        "  den = 0  #P(c|M)= sum_{r,s} P(r,c,s|M)\n",
        "  for hr in H:\n",
        "    num += prcs_M(hr,c,s,m)\n",
        "    for hs in H:\n",
        "      den += prcs_M(hr,c,hs,m)\n",
        "  return num/den\n",
        "\n",
        "\n",
        "def pr_csM(r,c,s,m): #P(r|c,s,M) = P(r,c,s|M)/P(c,s|M)\n",
        "  num = prcs_M(r,c,s,m) #P(r,c,s|M)\n",
        "  den = 0 #P(c,s|M) = sum_r P(r,c,s|M)\n",
        "  for hr in H:\n",
        "    den += prcs_M(hr,c,s,m)\n",
        "  return num/den\n"
      ],
      "metadata": {
        "id": "bS8dC2NRV-vg"
      },
      "execution_count": 4,
      "outputs": []
    },
    {
      "cell_type": "markdown",
      "source": [
        "Tenemos las predicciones. Ahora multipliquemos las tres para tener la proba de un episodio."
      ],
      "metadata": {
        "id": "Ob7ncN2JZ8Ze"
      }
    },
    {
      "cell_type": "code",
      "source": [
        "def pEpisodio_M(c,s,r,m):\n",
        "  return prcs_M(r,c,s,m)\n",
        "  #return pc(c)*ps_cM(s,c,m)*pr_csM(r,c,s,m)"
      ],
      "metadata": {
        "id": "lBCcvAe1aBrK"
      },
      "execution_count": 5,
      "outputs": []
    },
    {
      "cell_type": "markdown",
      "source": [
        "Probemos..."
      ],
      "metadata": {
        "id": "fo9IskM9b1ui"
      }
    },
    {
      "cell_type": "code",
      "source": [
        "pEpisodio_M(c=1,s=2,r=1,m=1)\n"
      ],
      "metadata": {
        "id": "HQ9y1rmkbCYa",
        "colab": {
          "base_uri": "https://localhost:8080/"
        },
        "outputId": "60a86400-e427-4592-82df-77864b5a9960"
      },
      "execution_count": 6,
      "outputs": [
        {
          "output_type": "execute_result",
          "data": {
            "text/plain": [
              "0.05555555555555555"
            ]
          },
          "metadata": {},
          "execution_count": 6
        }
      ]
    },
    {
      "cell_type": "code",
      "source": [
        "prcs_M(c=1,s=2,r=1,m=1)"
      ],
      "metadata": {
        "id": "TInCa5lzbuYx",
        "colab": {
          "base_uri": "https://localhost:8080/"
        },
        "outputId": "e3c1282a-bcaf-4a91-e5ba-66c6d7246c7e"
      },
      "execution_count": 7,
      "outputs": [
        {
          "output_type": "execute_result",
          "data": {
            "text/plain": [
              "0.05555555555555555"
            ]
          },
          "metadata": {},
          "execution_count": 7
        }
      ]
    },
    {
      "cell_type": "markdown",
      "source": [
        "##1.3"
      ],
      "metadata": {
        "id": "qJNfHqsHcUeI"
      }
    },
    {
      "cell_type": "code",
      "source": [
        "def simular(T=16,seed=0):\n",
        "  np.random.seed(seed)\n",
        "  Datos = []\n",
        "  for t in range(T):\n",
        "    r = np.random.choice(3, p = [pr(hr) for hr in H])\n",
        "    c = np.random.choice(3, p = [pc(hc) for hc in H])\n",
        "    s = np.random.choice(3, p = [ps_rcM1(hs,r,c) for hs in H]) #ps_rcM1(s,r,c)\n",
        "    Datos.append((c,s,r))\n",
        "  return Datos"
      ],
      "metadata": {
        "id": "Ph_PGrGBcjRR"
      },
      "execution_count": 8,
      "outputs": []
    },
    {
      "cell_type": "code",
      "source": [
        "T = 16\n",
        "Datos = simular(T)\n",
        "print(Datos)"
      ],
      "metadata": {
        "id": "Y6ggjLJBfbUh",
        "colab": {
          "base_uri": "https://localhost:8080/"
        },
        "outputId": "dfebe341-d0fb-467e-b2a7-ad42c63165a3"
      },
      "execution_count": 9,
      "outputs": [
        {
          "output_type": "stream",
          "name": "stdout",
          "text": [
            "[(2, 0, 1), (1, 2, 1), (2, 0, 1), (2, 0, 1), (2, 0, 1), (0, 2, 0), (2, 1, 2), (1, 0, 2), (1, 2, 0), (1, 0, 2), (2, 1, 0), (0, 2, 1), (1, 2, 1), (1, 0, 2), (0, 1, 2), (0, 1, 2)]\n"
          ]
        }
      ]
    },
    {
      "cell_type": "markdown",
      "source": [
        "##1.4"
      ],
      "metadata": {
        "id": "-Ob-pWS8fFjD"
      }
    },
    {
      "cell_type": "code",
      "source": [
        "def secuencia_de_predicciones(Datos,m):\n",
        "  pDatos_M = [1]\n",
        "  for t in range(len(Datos)):\n",
        "    c,s,r = Datos[t]\n",
        "    pDatos_M.append(pEpisodio_M(c,s,r,m))\n",
        "  return pDatos_M"
      ],
      "metadata": {
        "id": "1Ralgl4PdtK0"
      },
      "execution_count": 10,
      "outputs": []
    },
    {
      "cell_type": "code",
      "source": [
        "pDatos_M0 = np.prod(secuencia_de_predicciones(Datos,m = 0))\n",
        "pDatos_M1 = np.prod(secuencia_de_predicciones(Datos,m = 1))\n",
        "print(pDatos_M0)\n",
        "print(pDatos_M1)"
      ],
      "metadata": {
        "id": "nBWorYrFiCzb",
        "colab": {
          "base_uri": "https://localhost:8080/"
        },
        "outputId": "1fa17769-b785-4f30-bf20-49eaae13784c"
      },
      "execution_count": 11,
      "outputs": [
        {
          "output_type": "stream",
          "name": "stdout",
          "text": [
            "8.234550899283273e-21\n",
            "3.372872048346429e-17\n"
          ]
        }
      ]
    },
    {
      "cell_type": "markdown",
      "source": [
        "## 1.5.1"
      ],
      "metadata": {
        "id": "McBCytck3F6l"
      }
    },
    {
      "cell_type": "code",
      "source": [
        "log10_pDatos_M0 = np.log10(pDatos_M0)\n",
        "log10_pDatos_M1 = np.log10(pDatos_M1)\n",
        "\n",
        "log_bayes_factor = log10_pDatos_M1 - log10_pDatos_M0\n",
        "\n",
        "print(\"Diferencia predictiva: \", log_bayes_factor)\n",
        "print(\"El modelo Monty Hall preserva\", 10**log_bayes_factor, \"veces más creencia\")\n"
      ],
      "metadata": {
        "id": "24BBYaMt4EzN",
        "colab": {
          "base_uri": "https://localhost:8080/"
        },
        "outputId": "feead24e-0cbe-4fae-9523-06daa0013d4f"
      },
      "execution_count": 12,
      "outputs": [
        {
          "output_type": "stream",
          "name": "stdout",
          "text": [
            "Diferencia predictiva:  3.6123599479677715\n",
            "El modelo Monty Hall preserva 4095.999999999973 veces más creencia\n"
          ]
        }
      ]
    },
    {
      "cell_type": "code",
      "source": [
        "print(\"Log Bayes Factor: \", np.log10(pDatos_M1 / pDatos_M0))"
      ],
      "metadata": {
        "id": "VQ8eQy4eI8Mh",
        "colab": {
          "base_uri": "https://localhost:8080/"
        },
        "outputId": "d70ef097-6135-4815-adf1-7a5ff8f4582b"
      },
      "execution_count": 13,
      "outputs": [
        {
          "output_type": "stream",
          "name": "stdout",
          "text": [
            "Log Bayes Factor:  3.612359947967774\n"
          ]
        }
      ]
    },
    {
      "cell_type": "markdown",
      "source": [
        "##1.5.2"
      ],
      "metadata": {
        "id": "rCuHOM5_C_hX"
      }
    },
    {
      "cell_type": "code",
      "source": [
        "log10_predicciones_M0 = np.log10(secuencia_de_predicciones(Datos, m=0))\n",
        "log10_predicciones_M1 = np.log10(secuencia_de_predicciones(Datos, m=1))\n",
        "\n",
        "N = T*3\n",
        "media_geometrica_M0 = 10 ** (np.sum(log10_predicciones_M0) / N)\n",
        "media_geometrica_M1 = 10 ** (np.sum(log10_predicciones_M1) / N)\n",
        "\n",
        "\n",
        "print(\"Media geometrica base:\", media_geometrica_M0)\n",
        "print(\"Media geometrica Monty Hall:\", media_geometrica_M1)\n"
      ],
      "metadata": {
        "id": "ZQfD8NqHDMRl",
        "colab": {
          "base_uri": "https://localhost:8080/"
        },
        "outputId": "7373b28b-e85d-4308-e34f-136ffa95fd06"
      },
      "execution_count": 14,
      "outputs": [
        {
          "output_type": "stream",
          "name": "stdout",
          "text": [
            "Media geometrica base: 0.38157141418444396\n",
            "Media geometrica Monty Hall: 0.45376744062979096\n"
          ]
        }
      ]
    },
    {
      "cell_type": "markdown",
      "source": [
        "##1.6"
      ],
      "metadata": {
        "id": "wvOopmGwJxLp"
      }
    },
    {
      "cell_type": "code",
      "source": [
        "pDatos_M0"
      ],
      "metadata": {
        "id": "JhWgiIwAI5Mw",
        "colab": {
          "base_uri": "https://localhost:8080/"
        },
        "outputId": "cb5e076b-cc87-491f-b87f-65c26b29dc36"
      },
      "execution_count": 15,
      "outputs": [
        {
          "output_type": "execute_result",
          "data": {
            "text/plain": [
              "8.234550899283273e-21"
            ]
          },
          "metadata": {},
          "execution_count": 15
        }
      ]
    },
    {
      "cell_type": "code",
      "source": [
        "pDatos_M1"
      ],
      "metadata": {
        "id": "uGlRyyfAvlAb",
        "colab": {
          "base_uri": "https://localhost:8080/"
        },
        "outputId": "f35b7189-d52d-481b-81ae-521805902f3a"
      },
      "execution_count": 16,
      "outputs": [
        {
          "output_type": "execute_result",
          "data": {
            "text/plain": [
              "3.372872048346429e-17"
            ]
          },
          "metadata": {},
          "execution_count": 16
        }
      ]
    },
    {
      "cell_type": "code",
      "source": [
        "pDatos = pDatos_M0 * 0.5 + pDatos_M1 * 0.5\n",
        "print(\"La probabilidad de los datos es:\", pDatos)"
      ],
      "metadata": {
        "id": "zT7r86tNMk2z",
        "colab": {
          "base_uri": "https://localhost:8080/"
        },
        "outputId": "14ca402d-ab94-479b-c4f3-d6a50c541bd8"
      },
      "execution_count": 17,
      "outputs": [
        {
          "output_type": "stream",
          "name": "stdout",
          "text": [
            "La probabilidad de los datos es: 1.6868477517181785e-17\n"
          ]
        }
      ]
    },
    {
      "cell_type": "code",
      "source": [
        "pDatos_M0 * 0.5"
      ],
      "metadata": {
        "colab": {
          "base_uri": "https://localhost:8080/"
        },
        "id": "53sudwQkwnCM",
        "outputId": "0f888498-2ff2-41cd-fa1c-519278a7f3d9"
      },
      "execution_count": 18,
      "outputs": [
        {
          "output_type": "execute_result",
          "data": {
            "text/plain": [
              "4.117275449641637e-21"
            ]
          },
          "metadata": {},
          "execution_count": 18
        }
      ]
    },
    {
      "cell_type": "code",
      "source": [
        "pDatos_M1 * 0.5"
      ],
      "metadata": {
        "colab": {
          "base_uri": "https://localhost:8080/"
        },
        "id": "ZF0Tcxhwws8z",
        "outputId": "21a20ced-10d2-4b9e-da9c-5de2e7651996"
      },
      "execution_count": 19,
      "outputs": [
        {
          "output_type": "execute_result",
          "data": {
            "text/plain": [
              "1.6864360241732144e-17"
            ]
          },
          "metadata": {},
          "execution_count": 19
        }
      ]
    },
    {
      "cell_type": "markdown",
      "source": [
        "##1.7"
      ],
      "metadata": {
        "id": "DdHWP2-QOPO5"
      }
    },
    {
      "cell_type": "code",
      "source": [
        "def pModelo_Datos(m):\n",
        "  if m == 0:\n",
        "    return pDatos_M0 * 0.5 / pDatos\n",
        "  if m == 1:\n",
        "    return pDatos_M1 * 0.5 / pDatos"
      ],
      "metadata": {
        "id": "krzHVEHHOQCa"
      },
      "execution_count": 20,
      "outputs": []
    },
    {
      "cell_type": "code",
      "source": [
        "print(\"La probabilidad del M0 dados los datos es \", pModelo_Datos(0))\n",
        "print(\"La probabilidad del M1 dados los datos es \", pModelo_Datos(1))"
      ],
      "metadata": {
        "colab": {
          "base_uri": "https://localhost:8080/"
        },
        "id": "U3LmHYGRPGle",
        "outputId": "6e4adaf8-721a-480b-8b92-73f7019f9f36"
      },
      "execution_count": 21,
      "outputs": [
        {
          "output_type": "stream",
          "name": "stdout",
          "text": [
            "La probabilidad del M0 dados los datos es  0.000244081034903588\n",
            "La probabilidad del M1 dados los datos es  0.9997559189650964\n"
          ]
        }
      ]
    },
    {
      "cell_type": "markdown",
      "source": [
        "##1.8"
      ],
      "metadata": {
        "id": "9du9dNM-PTKY"
      }
    },
    {
      "cell_type": "code",
      "source": [
        "DatosCompletos = Datos"
      ],
      "metadata": {
        "id": "llsLd0Aql9j7"
      },
      "execution_count": 22,
      "outputs": []
    },
    {
      "cell_type": "code",
      "source": [
        "x = np.linspace(0,16,num=17)\n",
        "probaDatosAcum_M0 = np.zeros(17)\n",
        "probaDatosAcum_M1 = np.zeros(17)"
      ],
      "metadata": {
        "id": "vRG-AxQsmH3S"
      },
      "execution_count": 23,
      "outputs": []
    },
    {
      "cell_type": "code",
      "source": [
        "probaDatosAcum_M0[0] = 1\n",
        "probaDatosAcum_M1[0] = 1"
      ],
      "metadata": {
        "id": "EYpzLgH5pIH1"
      },
      "execution_count": 24,
      "outputs": []
    },
    {
      "cell_type": "code",
      "source": [
        "for i in range(len(Datos)):\n",
        "  c,s,r = Datos[i]\n",
        "  probaDatosAcum_M0[i+1] = pEpisodio_M(c,s,r,0) * probaDatosAcum_M0[i]\n",
        "  probaDatosAcum_M1[i+1] = pEpisodio_M(c,s,r,1) * probaDatosAcum_M1[i]"
      ],
      "metadata": {
        "id": "HRfIyMUAp8X9"
      },
      "execution_count": 25,
      "outputs": []
    },
    {
      "cell_type": "code",
      "source": [
        "print(probaDatosAcum_M0[-1] * 0.5 + probaDatosAcum_M1[-1] * 0.5)"
      ],
      "metadata": {
        "colab": {
          "base_uri": "https://localhost:8080/"
        },
        "id": "erg0YqtaxI8M",
        "outputId": "53f3a995-e24f-4328-acb1-82ff50645a5f"
      },
      "execution_count": 26,
      "outputs": [
        {
          "output_type": "stream",
          "name": "stdout",
          "text": [
            "1.6868477517181785e-17\n"
          ]
        }
      ]
    },
    {
      "cell_type": "code",
      "source": [
        "probaAcumModeloM0_Datos = np.zeros(17)\n",
        "probaAcumModeloM1_Datos = np.zeros(17)"
      ],
      "metadata": {
        "id": "_LsVwREzulkj"
      },
      "execution_count": 27,
      "outputs": []
    },
    {
      "cell_type": "code",
      "source": [
        "for i in range(len(probaAcumModeloM0_Datos)):\n",
        "  pDat = probaDatosAcum_M0[i] * 0.5 + probaDatosAcum_M1[i] * 0.5\n",
        "  probaAcumModeloM0_Datos[i] = probaDatosAcum_M0[i] * 0.5 / pDat\n",
        "  probaAcumModeloM1_Datos[i] = probaDatosAcum_M1[i] * 0.5 / pDat"
      ],
      "metadata": {
        "id": "YQ88ychNz_cs"
      },
      "execution_count": 28,
      "outputs": []
    },
    {
      "cell_type": "code",
      "source": [
        "plt.figure(figsize=(10, 6))\n",
        "plt.plot(x, probaAcumModeloM0_Datos, color='blue', label='Modelo Base (M0)', linestyle='-')\n",
        "plt.plot(x, probaAcumModeloM1_Datos, color='orange', label='Modelo Monty Hall (M1)', linestyle='-')\n",
        "\n",
        "\n",
        "plt.xlabel('Episodio')\n",
        "plt.ylabel('Probabilidad (Modelo | Datos)')\n",
        "\n",
        "\n",
        "\n",
        "plt.legend()\n",
        "\n",
        "\n",
        "plt.grid(True)\n",
        "plt.show()"
      ],
      "metadata": {
        "colab": {
          "base_uri": "https://localhost:8080/",
          "height": 542
        },
        "id": "IVNhromW8Pvr",
        "outputId": "3af3ebef-3a73-428a-b4bb-cb663994914b"
      },
      "execution_count": 29,
      "outputs": [
        {
          "output_type": "display_data",
          "data": {
            "text/plain": [
              "<Figure size 1000x600 with 1 Axes>"
            ],
            "image/png": "[encoded data removed]"
          },
          "metadata": {}
        }
      ]
    },
    {
      "cell_type": "markdown",
      "source": [
        "1.9"
      ],
      "metadata": {
        "id": "BCnHJZvG848t"
      }
    },
    {
      "cell_type": "code",
      "source": [
        "from google.colab import drive\n",
        "drive.mount('/content/drive')"
      ],
      "metadata": {
        "id": "MwB2m_x186vS",
        "colab": {
          "base_uri": "https://localhost:8080/"
        },
        "outputId": "17e18b29-4e1d-4279-d682-aa5986f003a9"
      },
      "execution_count": 30,
      "outputs": [
        {
          "output_type": "stream",
          "name": "stdout",
          "text": [
            "Mounted at /content/drive\n"
          ]
        }
      ]
    },
    {
      "cell_type": "code",
      "source": [
        "file_path = '/content/drive/MyDrive/inferencia/NoMontyHall.csv'\n",
        "\n",
        "with open(file_path, 'r') as file:\n",
        "  noMontyHall = file.read()"
      ],
      "metadata": {
        "id": "m8uPHkfz-8Yj"
      },
      "execution_count": 31,
      "outputs": []
    },
    {
      "cell_type": "code",
      "source": [
        "def pa_p(a, p):\n",
        "    if a == 0:\n",
        "        return 1 - p\n",
        "    elif a == 1:\n",
        "        return p\n",
        "    else:\n",
        "        return 0\n",
        "\n",
        "# inicializo las probabilidades de p de manera uniforme\n",
        "Hp = np.arange(0, 1.1, 0.1)\n",
        "Ha = [0, 1]\n",
        "pp_Datos = [1/11 for i in range(11)]\n",
        "\n",
        "def prcsap_M2(r, c, s, a, ip):  # probabilidad conjunta\n",
        "    return pr(r) * pc(c) * ps_rM0(s, r) ** (1 - a) * ps_rcM1(s, r, c) ** a * pa_p(a, Hp[ip]) * pp_Datos[ip]\n",
        "\n",
        "def pEpisodio_M2(c, s, r):\n",
        "    res = 0\n",
        "    for a in Ha:\n",
        "        for ip in range(len(Hp)):\n",
        "            res += prcsap_M2(r, c, s, a, ip)\n",
        "    return res"
      ],
      "metadata": {
        "id": "54ZsVOLYMgGW"
      },
      "execution_count": 32,
      "outputs": []
    },
    {
      "cell_type": "code",
      "source": [
        "# inicializo de las probabilidades y posteriores\n",
        "p_M0 = p_M1 = p_M2 = 1/3\n",
        "posterior_M0 = [p_M0]\n",
        "posterior_M1 = [p_M1]\n",
        "posterior_M2 = [p_M2]\n",
        "\n",
        "pDatos_M0 = pDatos_M1 = pDatos_M2 = 1\n",
        "\n",
        "\n",
        "lines = noMontyHall.strip().split('\\n')[1:]\n",
        "\n",
        "for i, line in enumerate(lines[:60]): # itero por indice y por line los primeros 60 datos\n",
        "    c, s, r = map(int, line.split(','))\n",
        "\n",
        "    # proba de los episodios segun cada modelo\n",
        "    pDatos_M0 *= pEpisodio_M(c, s, r, m=0)\n",
        "    pDatos_M1 *= pEpisodio_M(c, s, r, m=1)\n",
        "    pDatos_M2 *= pEpisodio_M2(c, s, r)\n",
        "\n",
        "    # proba datos con proba total\n",
        "    pDatos = (pDatos_M0 * p_M0) + (pDatos_M1 * p_M1) + (pDatos_M2 * p_M2)\n",
        "\n",
        "    # agrego las posteriores al vector\n",
        "    posterior_M0.append(pDatos_M0 * p_M0 / pDatos)\n",
        "    posterior_M1.append(pDatos_M1 * p_M1 / pDatos)\n",
        "    posterior_M2.append(pDatos_M2 * p_M2 / pDatos)\n",
        "\n",
        "    # actualizo pp_Datos con nuevos datos\n",
        "    new_pp_Datos = []\n",
        "    for ip, p in enumerate(Hp):\n",
        "        suma_prob = 0\n",
        "        for a in Ha:\n",
        "            suma_prob += prcsap_M2(r, c, s, a, ip)\n",
        "        new_pp_Datos.append(suma_prob)\n",
        "\n",
        "    # normalizo las nuevas probabilidades de p (porque discreticé)\n",
        "    suma_total = sum(new_pp_Datos)\n",
        "    pp_Datos = [prob / suma_total for prob in new_pp_Datos]\n",
        "\n",
        "\n",
        "\n",
        "plt.plot(range(len(posterior_M0)), posterior_M0, label='Modelo Base')\n",
        "plt.plot(range(len(posterior_M1)), posterior_M1, label='Modelo Monty Hall')\n",
        "plt.plot(range(len(posterior_M2)), posterior_M2, label='Modelo No Monty Hall')\n",
        "plt.xlabel('Episodio')\n",
        "plt.ylabel('Posterior = P(Modelo | Datos)')\n",
        "plt.legend()\n",
        "plt.show()"
      ],
      "metadata": {
        "id": "s_npUoYHMgpH",
        "colab": {
          "base_uri": "https://localhost:8080/",
          "height": 449
        },
        "outputId": "0f25f355-35f8-47d7-ff62-188ffebec859"
      },
      "execution_count": 33,
      "outputs": [
        {
          "output_type": "display_data",
          "data": {
            "text/plain": [
              "<Figure size 640x480 with 1 Axes>"
            ],
            "image/png": "[encoded data removed]"
          },
          "metadata": {}
        }
      ]
    },
    {
      "cell_type": "markdown",
      "source": [
        "#Segundo ejercicio"
      ],
      "metadata": {
        "id": "q4vHsYTTNkqZ"
      }
    },
    {
      "cell_type": "markdown",
      "source": [
        "#4.1"
      ],
      "metadata": {
        "id": "bguu65yARYGj"
      }
    },
    {
      "cell_type": "code",
      "source": [
        "import pandas as pd"
      ],
      "metadata": {
        "id": "pUuxg3F_Njrf"
      },
      "execution_count": 34,
      "outputs": []
    },
    {
      "cell_type": "code",
      "source": [
        "file_path = '/content/drive/MyDrive/inferencia/alturas.csv'\n",
        "\n",
        "alturas = pd.read_csv(file_path)\n",
        "print(alturas.head())"
      ],
      "metadata": {
        "id": "M0AdsbmBNilc",
        "colab": {
          "base_uri": "https://localhost:8080/"
        },
        "outputId": "3ea896f3-7a9d-4c66-dcd8-2036aaa8aa00"
      },
      "execution_count": 35,
      "outputs": [
        {
          "output_type": "stream",
          "name": "stdout",
          "text": [
            "   id  altura sexo contextura_madre  altura_madre\n",
            "0   1   172.7    M          mediana         159.8\n",
            "1   2   171.5    M          mediana         160.3\n",
            "2   3   162.6    F          mediana         160.5\n",
            "3   4   174.1    M          mediana         159.8\n",
            "4   5   168.3    M          mediana         158.3\n"
          ]
        }
      ]
    },
    {
      "cell_type": "code",
      "source": [
        "masc = alturas[alturas['sexo'] == 'M']\n",
        "fem = alturas[alturas['sexo'] == 'F']\n",
        "\n",
        "plt.scatter(masc['altura_madre'], masc['altura'], label='Masculino', color = 'blue')\n",
        "plt.scatter(fem['altura_madre'], fem['altura'], label='Femenino', color = 'orange')\n",
        "plt.xlabel('Altura madre')\n",
        "plt.ylabel('Altura')\n",
        "plt.legend()\n",
        "plt.show()"
      ],
      "metadata": {
        "id": "G6b71T0ROtQe",
        "colab": {
          "base_uri": "https://localhost:8080/",
          "height": 449
        },
        "outputId": "80ec8b27-5762-4260-d891-00bb6c9253d2"
      },
      "execution_count": 36,
      "outputs": [
        {
          "output_type": "display_data",
          "data": {
            "text/plain": [
              "<Figure size 640x480 with 1 Axes>"
            ],
            "image/png": "[encoded data removed]"
          },
          "metadata": {}
        }
      ]
    },
    {
      "cell_type": "markdown",
      "source": [
        "#4.2"
      ],
      "metadata": {
        "id": "xRtwNE5DRR_v"
      }
    },
    {
      "cell_type": "code",
      "source": [
        "import random\n",
        "import numpy as np\n",
        "from numpy.random import normal as noise\n",
        "import matplotlib.pyplot as plt\n",
        "from scipy.stats import multivariate_normal as normal\n",
        "from scipy.stats import norm\n",
        "import statsmodels.api as sm\n",
        "import copy\n",
        "#phi = polynomial_basis_function\n",
        "\n",
        "random.seed(1)\n",
        "np.random.seed(1)\n",
        "cmap = plt.get_cmap(\"tab10\")\n",
        "\n",
        "\n",
        "BETA = (1/0.2)**2\n",
        "ALPHA = (10e-6) # Bishop usa alpha = 5e-3\n",
        "\n",
        "# 1/ALPHA es la varianza del prior\n",
        "# 1/BETA es la varianza del ruido\n",
        "\n",
        "def posterior(t, Phi, alpha = ALPHA, beta = BETA):\n",
        "    S_N_inv = alpha * np.eye(Phi.shape[1]) + beta * Phi.T.dot(Phi)\n",
        "    S_N = np.linalg.inv(S_N_inv)\n",
        "    m_N = beta * S_N.dot(Phi.T).dot(t)\n",
        "    return m_N, S_N\n",
        "\n",
        "def likelihood(w, t, Phi, beta = BETA):\n",
        "    res = 1\n",
        "    for i in range(len(t)):\n",
        "        mean = w.T.dot(Phi[i])\n",
        "        sigma = np.sqrt(beta**(-1))\n",
        "        res =  res * norm.pdf(t[i],mean,sigma)\n",
        "    return res\n",
        "\n",
        "def moments_predictive(Phi_posteriori, alpha = ALPHA, beta = BETA, t_priori=None, Phi_priori=None):\n",
        "    N, D = Phi_posteriori.shape\n",
        "    if t_priori is None: t_priori, Phi_priori = np.zeros((0,1)), np.zeros((0,D))\n",
        "    m_prior, S_prior = posterior(t_priori, Phi_priori, alpha, beta)\n",
        "    Phi_posteriori.dot(S_prior.dot(Phi_posteriori.T))\n",
        "    sigma2 = Phi_posteriori.dot(S_prior.dot(Phi_posteriori.T)) + (1/beta)*np.eye(Phi_posteriori.shape[0])\n",
        "    mu = Phi_posteriori.dot(m_prior) # m_N.T.dot(Phi)\n",
        "    return mu, sigma2\n",
        "\n",
        "def predictive(t_posteriori, Phi_posteriori, alpha = ALPHA, beta = BETA, t_priori=None, Phi_priori=None):\n",
        "    m, S = moments_predictive(Phi_posteriori, alpha, beta, t_priori, Phi_priori)\n",
        "    return normal.pdf(t_posteriori.ravel(),m.ravel(),S)\n",
        "\n",
        "def log_evidence(t, Phi, alpha = ALPHA, beta = BETA):\n",
        "    N, M = Phi.shape\n",
        "    m_N, S_N = posterior(t, Phi, alpha, beta)\n",
        "    #m_N == beta*S_N.dot(Phi.T).dot(t)\n",
        "    A = np.linalg.inv(S_N)\n",
        "    A_det = np.linalg.det(A)\n",
        "    E_mN = (beta/2) * (t - Phi.dot(m_N)).T.dot(t - Phi.dot(m_N)) \\\n",
        "         + (alpha/2) * m_N.T.dot(m_N)\n",
        "    res = (M/2) * np.log(alpha)   \\\n",
        "        + (N/2) * np.log(beta)    \\\n",
        "        - E_mN                    \\\n",
        "        - (1/2) * np.log(A_det)   \\\n",
        "        - (N/2) * np.log(2*np.pi)\n",
        "    return res\n",
        "\n",
        "def sinus_model(X, variance):\n",
        "    '''Sinus function plus noise'''\n",
        "    return np.sin(2 * np.pi * X) + noise(0,np.sqrt(variance),X.shape)\n",
        "\n",
        "def polynomial_basis_function(x, degree=1):\n",
        "    return x ** degree"
      ],
      "metadata": {
        "id": "m9NjAWKk88a6"
      },
      "execution_count": 37,
      "outputs": []
    },
    {
      "cell_type": "code",
      "source": [
        "data = alturas"
      ],
      "metadata": {
        "id": "Gig4zPRbSBPK"
      },
      "execution_count": 38,
      "outputs": []
    },
    {
      "cell_type": "code",
      "source": [
        "# Modelo Base: altura = h0 + h1 * altura_madre\n",
        "X_base = np.column_stack((np.ones(len(alturas)), alturas['altura_madre']))\n",
        "y = data['altura'].values\n",
        "coef_base = posterior(y, X_base) # Media del maximo a posteriori\n",
        "\n",
        "# Modelo Biológico: altura = h0 + h1 * altura_madre + h2 * I(sexo = F)\n",
        "alturas['sexo_F'] = (alturas['sexo'] == 'F').astype(int)\n",
        "X_biologico = np.column_stack((np.ones(len(data)), alturas['altura_madre'], alturas['sexo_F']))\n",
        "coef_biologico = posterior(y, X_biologico)\n",
        "\n",
        "# Modelo Identitario: altura = h0 + h1 * altura_madre + h2 * (ID mod max(ID)/2)\n",
        "max_ID = alturas['id'].max()\n",
        "alturas['grupo_azar'] = alturas['id'] % (max_ID // 2)\n",
        "num_grupos = int(max_ID // 2)\n",
        "X_identitario = np.zeros((len(alturas), num_grupos))\n",
        "X_identitario[:, 0] = alturas['altura_madre']\n",
        "for i in range(1, num_grupos):\n",
        "    X_identitario[:, i] = (alturas['grupo_azar'] == i).astype(int)\n",
        "\n",
        "X_identitario = np.column_stack([alturas['altura_madre'], X_identitario])\n",
        "coef_identitario = posterior(y, X_identitario)"
      ],
      "metadata": {
        "id": "aY5F9-ULRwiT"
      },
      "execution_count": 39,
      "outputs": []
    },
    {
      "cell_type": "code",
      "source": [
        "print(\"Modelo Base\")\n",
        "print(f\"h0: {coef_base[0][0]}, h1: {coef_base[0][1]}\")\n",
        "\n",
        "print(\"\\nModelo Biológico\")\n",
        "print(f\"h0: {coef_biologico[0][0]}, h1: {coef_biologico[0][1]}, h2: {coef_biologico[0][2]}\")\n",
        "\n",
        "print(\"\\nModelo Identitario\")\n",
        "print(f\"h0 (pendiente común para altura madre): {coef_identitario[0][0]}\")\n",
        "for i in range(1, len(coef_identitario[0])):\n",
        "    print(f\"h{i+1} (Intercepto para grupo {i}): {coef_identitario[0][i]}\")"
      ],
      "metadata": {
        "id": "U3OVYC2kIAsF",
        "colab": {
          "base_uri": "https://localhost:8080/"
        },
        "outputId": "3618ab7f-6d5f-4625-c23c-1ce100613196"
      },
      "execution_count": 40,
      "outputs": [
        {
          "output_type": "stream",
          "name": "stdout",
          "text": [
            "Modelo Base\n",
            "h0: 13.411083898961706, h1: 0.9482074688406162\n",
            "\n",
            "Modelo Biológico\n",
            "h0: 70.68978421821583, h1: 0.6316443467754576, h2: -11.67859854656875\n",
            "\n",
            "Modelo Identitario\n",
            "h0 (pendiente común para altura madre): 0.5335698215879225\n",
            "h2 (Intercepto para grupo 1): 0.5333468344707776\n",
            "h3 (Intercepto para grupo 2): -7.726750633627133\n",
            "h4 (Intercepto para grupo 3): -6.893711909123546\n",
            "h5 (Intercepto para grupo 4): -6.996801255426344\n",
            "h6 (Intercepto para grupo 5): -1.9169789367238566\n",
            "h7 (Intercepto para grupo 6): -5.239865735829641\n",
            "h8 (Intercepto para grupo 7): -4.92340944832722\n",
            "h9 (Intercepto para grupo 8): -6.51029452612396\n",
            "h10 (Intercepto para grupo 9): -6.737154638020948\n",
            "h11 (Intercepto para grupo 10): -5.663762630921432\n",
            "h12 (Intercepto para grupo 11): -6.1459180989382745\n",
            "h13 (Intercepto para grupo 12): -9.790117204826432\n",
            "h14 (Intercepto para grupo 13): -4.063636761423495\n",
            "h15 (Intercepto para grupo 14): -6.060168426625722\n",
            "h16 (Intercepto para grupo 15): 0.0592498776824546\n",
            "h17 (Intercepto para grupo 16): -6.79396430811936\n",
            "h18 (Intercepto para grupo 17): -6.743333370628013\n",
            "h19 (Intercepto para grupo 18): -9.960293836124134\n",
            "h20 (Intercepto para grupo 19): -13.340242684324643\n",
            "h21 (Intercepto para grupo 20): 3.300359697267252\n",
            "h22 (Intercepto para grupo 21): -11.103231547029747\n",
            "h23 (Intercepto para grupo 22): -5.8435859296244725\n",
            "h24 (Intercepto para grupo 23): -4.1606735646184\n",
            "h25 (Intercepto para grupo 24): -7.136775989526423\n",
            "h26 (Intercepto para grupo 25): 2.483524941269906\n"
          ]
        }
      ]
    },
    {
      "cell_type": "markdown",
      "source": [
        "#4.3"
      ],
      "metadata": {
        "id": "uNmNroxlS8df"
      }
    },
    {
      "cell_type": "code",
      "source": [
        "log_evidencia_base = log_evidence(y, X_base)\n",
        "log_evidencia_biologico = log_evidence(y, X_biologico)\n",
        "log_evidencia_identitario = log_evidence(y, X_identitario)\n",
        "\n",
        "modelos = ['Base', 'Biológico', 'Identitario']\n",
        "log_evidencias = [log_evidencia_base, log_evidencia_biologico, log_evidencia_identitario]\n",
        "\n",
        "plt.bar(modelos, log_evidencias, color=['blue', 'orange', 'green'])\n",
        "plt.xlabel('Modelos Causales Alternativos')\n",
        "plt.ylabel('Log-Evidencia')\n",
        "plt.title('Evidencia en escala logarítmica de los modelos causales alternativos')\n",
        "plt.show()"
      ],
      "metadata": {
        "id": "8P1RIahU9e1h",
        "colab": {
          "base_uri": "https://localhost:8080/",
          "height": 473
        },
        "outputId": "59becb97-f9fa-4757-b0d6-3cfddafeba2d"
      },
      "execution_count": 41,
      "outputs": [
        {
          "output_type": "display_data",
          "data": {
            "text/plain": [
              "<Figure size 640x480 with 1 Axes>"
            ],
            "image/png": "[encoded data removed]"
          },
          "metadata": {}
        }
      ]
    },
    {
      "cell_type": "markdown",
      "source": [
        "#4.4"
      ],
      "metadata": {
        "id": "jMikvnm1TdKp"
      }
    },
    {
      "cell_type": "code",
      "source": [
        "evidencia_base = np.exp(log_evidencia_base / 50)\n",
        "evidencia_biologico = np.exp(log_evidencia_biologico / 50)\n",
        "evidencia_identitario = np.exp(log_evidencia_identitario / 50)\n",
        "\n",
        "\n",
        "def media_geometrica(evidencias):\n",
        "    producto_evidencias = np.prod(evidencias)\n",
        "    N = len(evidencias)\n",
        "    return producto_evidencias ** (1 / N)\n",
        "\n",
        "# Evidencias de los modelos en formato de lista\n",
        "evidencias_modelos = [evidencia_base, evidencia_biologico, evidencia_identitario]\n",
        "\n",
        "# Calcular la media geométrica de las evidencias\n",
        "media_geom_base = media_geometrica([evidencia_base])\n",
        "media_geom_biologico = media_geometrica([evidencia_biologico])\n",
        "media_geom_identitario = media_geometrica([evidencia_identitario])\n",
        "\n",
        "print(\"Media geométrica de los modelos:\")\n",
        "print(f\"Modelo Base: {media_geom_base}\")\n",
        "print(f\"Modelo Biológico: {media_geom_biologico}\")\n",
        "print(f\"Modelo Identitario: {media_geom_identitario}\")\n"
      ],
      "metadata": {
        "id": "KfwhhoZ5MNYp",
        "colab": {
          "base_uri": "https://localhost:8080/"
        },
        "outputId": "b1bd5341-4fbe-4470-f903-71ce0088e8b3"
      },
      "execution_count": 47,
      "outputs": [
        {
          "output_type": "stream",
          "name": "stdout",
          "text": [
            "Media geométrica de los modelos:\n",
            "Modelo Base: 5.1308446997681835e-216\n",
            "Modelo Biológico: 1.0464988478569294e-39\n",
            "Modelo Identitario: 6.585148872227927e-138\n"
          ]
        }
      ]
    },
    {
      "cell_type": "markdown",
      "source": [
        "#4.5"
      ],
      "metadata": {
        "id": "m0ehogMDLthU"
      }
    },
    {
      "cell_type": "code",
      "source": [
        "print(likelihood(coef_base[0], y, X_base))\n",
        "print(likelihood(coef_biologico[0], y, X_biologico))\n",
        "print(likelihood(coef_identitario[0], y, X_identitario))"
      ],
      "metadata": {
        "colab": {
          "base_uri": "https://localhost:8080/"
        },
        "id": "ZwLVkveBWyCr",
        "outputId": "fa800b25-9751-4ab2-91eb-ce092daaa39b"
      },
      "execution_count": 48,
      "outputs": [
        {
          "output_type": "stream",
          "name": "stdout",
          "text": [
            "0.0\n",
            "0.0\n",
            "0.0\n"
          ]
        }
      ]
    },
    {
      "cell_type": "code",
      "source": [
        "P_modelo_base = 1/3\n",
        "P_modelo_biologico = 1/3\n",
        "P_modelo_azar = 1/3\n",
        "\n",
        "\n",
        "P_datos_base = likelihood(coef_base[0], y, X_base)\n",
        "P_datos_biologico = likelihood(coef_biologico[0], y, X_biologico)\n",
        "P_datos_identitario = likelihood(coef_identitario[0], y, X_identitario)\n",
        "\n",
        "\n",
        "P_datos = (P_datos_base * P_modelo_base + P_datos_biologico * P_modelo_biologico + P_datos_identitario * P_modelo_azar)\n",
        "print(P_datos)\n",
        "\n",
        "posterior_base = (P_datos_base * P_modelo_base) / P_datos\n",
        "posterior_biologico = (P_datos_biologico * P_modelo_biologico) / P_datos\n",
        "posterior_azar = (P_datos_identitario * P_modelo_azar) / P_datos\n",
        "\n",
        "print(\"Posterior - Modelo Base:\", posterior_base)\n",
        "print(\"Posterior - Modelo Biológico:\", posterior_biologico)\n",
        "print(\"Posterior - Modelo Azar:\", posterior_azar)\n"
      ],
      "metadata": {
        "colab": {
          "base_uri": "https://localhost:8080/"
        },
        "id": "c2Sn4FjqW1nj",
        "outputId": "8480b99a-f9b5-4289-b1be-6e5a7908c4e6"
      },
      "execution_count": 51,
      "outputs": [
        {
          "output_type": "stream",
          "name": "stdout",
          "text": [
            "0.0\n",
            "Posterior - Modelo Base: nan\n",
            "Posterior - Modelo Biológico: nan\n",
            "Posterior - Modelo Azar: nan\n"
          ]
        },
        {
          "output_type": "stream",
          "name": "stderr",
          "text": [
            "<ipython-input-51-d82cac20ee16>:14: RuntimeWarning: invalid value encountered in scalar divide\n",
            "  posterior_base = (P_datos_base * P_modelo_base) / P_datos\n",
            "<ipython-input-51-d82cac20ee16>:15: RuntimeWarning: invalid value encountered in scalar divide\n",
            "  posterior_biologico = (P_datos_biologico * P_modelo_biologico) / P_datos\n",
            "<ipython-input-51-d82cac20ee16>:16: RuntimeWarning: invalid value encountered in scalar divide\n",
            "  posterior_azar = (P_datos_identitario * P_modelo_azar) / P_datos\n"
          ]
        }
      ]
    }
  ]
}