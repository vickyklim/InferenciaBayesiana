{
  "nbformat": 4,
  "nbformat_minor": 0,
  "metadata": {
    "colab": {
      "provenance": []
    },
    "kernelspec": {
      "name": "python3",
      "display_name": "Python 3"
    },
    "language_info": {
      "name": "python"
    }
  },
  "cells": [
    {
      "cell_type": "markdown",
      "source": [
        "#1"
      ],
      "metadata": {
        "id": "sQ3cWke9v7Oy"
      }
    },
    {
      "cell_type": "markdown",
      "source": [
        "##Pipe"
      ],
      "metadata": {
        "id": "tgMWV7Y-wAQX"
      }
    },
    {
      "cell_type": "markdown",
      "source": [
        "###e -> a -> l"
      ],
      "metadata": {
        "id": "uBmYQlVFyd17"
      }
    },
    {
      "cell_type": "markdown",
      "source": [
        "\n",
        "\n",
        "P(l) != P(l|e)\n",
        "La probabilidad que llamen vs la probabilidad que llamen dado que entraron\n",
        "\n",
        "\n",
        "La alarma se activa cuando alguien entra. Si la alarma se activa la dueña recibe una llamada.\n",
        "Sin embargo, la probabilidad de que llamen (a secas) es mas baja.\n",
        "Va a haber flujo de inferencia"
      ],
      "metadata": {
        "id": "fCjUiI1EwEiO"
      }
    },
    {
      "cell_type": "markdown",
      "source": [
        "P(l|a) = P(l|e,a)\n",
        "\n",
        "\n",
        "La probabilidad de que llamen dado que sonó la alarma vs la probabilidad de que llamen dado que entraron y sonó la alrma\n",
        "\n",
        "\n",
        "Si entran, suena la alarma entonces no hay información nueva. El flujo se cierra.\n"
      ],
      "metadata": {
        "id": "XVl0jSZ-xk7Z"
      }
    },
    {
      "cell_type": "markdown",
      "source": [
        "###l <- a <- t"
      ],
      "metadata": {
        "id": "mCb5UrdfyyRI"
      }
    },
    {
      "cell_type": "markdown",
      "source": [
        "P(t) != P(t|l)\n",
        "\n",
        "\n",
        "La probabilidad del terremoto vs la probabilidad del terremoto dado que llamaron\n",
        "\n",
        "\n",
        "Si hay un terremoto, llaman entonces aumenta la probabilidad de que haya habido un terremoto si llamaron con respecto a que haya habido un terremoto (a secas). Va a haber flujo de inferencia"
      ],
      "metadata": {
        "id": "Lz4_FWAJy3bX"
      }
    },
    {
      "cell_type": "markdown",
      "source": [
        "P(t|a) = P(t|a,l)\n",
        "\n",
        "La probabilidad de que haya un terremoto dado que sono la alarma vs la probabilidad que haya habido un terremoto dado que son la alarma y llamaron\n",
        "\n",
        "El flujo se cierra porque si suena la alarma, llaman entonces no aporta información nueva"
      ],
      "metadata": {
        "id": "H-QrcBAzzybQ"
      }
    },
    {
      "cell_type": "markdown",
      "source": [
        "##Fork"
      ],
      "metadata": {
        "id": "xSJJwIdq0QwS"
      }
    },
    {
      "cell_type": "markdown",
      "source": [
        "###a <- t -> r"
      ],
      "metadata": {
        "id": "5nmhssyn0SLk"
      }
    },
    {
      "cell_type": "markdown",
      "source": [
        "P(r) != P(r|a)\n",
        "\n",
        "\n",
        "La probabilidad que se hable en las redes vs la probabilidad que se hable en las redes dado que sono la alarma.\n",
        "\n",
        "\n",
        "El flujo permanece abierto porque si suena la alarma puede ser porque hubo un terremoto entonces se habla en las redes lo cual no es la mismo que la probabilidad que se hable en las redes a secas"
      ],
      "metadata": {
        "id": "h1VEhvvc0afy"
      }
    },
    {
      "cell_type": "markdown",
      "source": [
        "P(r|t) = P(r|t,a)\n",
        "\n",
        "La probabilidad que se hable en las redes dado que hubo un terremoto vs la probablidad que se hable en las redes dado que un terremoto y sono la alarma\n",
        "\n",
        "El flujo se cierra porque si hay un terremoto, sonará la alarma entonces no aporta información"
      ],
      "metadata": {
        "id": "QHmszxUk1jbO"
      }
    },
    {
      "cell_type": "markdown",
      "source": [
        "##Collider"
      ],
      "metadata": {
        "id": "cjILglxh2E-2"
      }
    },
    {
      "cell_type": "markdown",
      "source": [
        "###e -> a <- t\n",
        "###(a tambien apunta a l)"
      ],
      "metadata": {
        "id": "t56KQYCd2KCU"
      }
    },
    {
      "cell_type": "markdown",
      "source": [
        "P(t) = P(t|e)\n",
        "\n",
        "La probablidad de que haya un terremoto dado que entraron vs la probabilidad de que haya un terremoto\n",
        "\n",
        "El flujo se cierra porque que hayan entrado no va a cambiar la probabilidad de que haya un terremoto"
      ],
      "metadata": {
        "id": "5eky0I-t2Og0"
      }
    },
    {
      "cell_type": "markdown",
      "source": [
        "P(t|a) != P(t|e,a)\n",
        "\n",
        "La probabilidad de que haya un terremoto dado que sono la alarma vs la probabilidad de que haya un terremoto\n",
        "\n",
        "El flujo permanece abierto porque si entraron, suena la alarma entonces no aporta información nueva"
      ],
      "metadata": {
        "id": "c_zdr0l-3l7E"
      }
    },
    {
      "cell_type": "markdown",
      "source": [
        "P(t|l) != P(t|e,l)\n",
        "\n",
        "La probabilidad de que haya un terremoto dado que llamaron vs la probabilidad de que haya un terremoto dado que llamaron y entraron\n",
        "\n",
        "El flujo permanece abierto porque si entran, llaman entonces no se aporta información nueva"
      ],
      "metadata": {
        "id": "IE8CGMJ_4JFP"
      }
    },
    {
      "cell_type": "code",
      "source": [
        "# -*- coding: utf-8 -*-\n",
        "\"\"\"\n",
        "   TrueskillThroughTime.py\n",
        "   ~~~~~~~~~~~~~~~~~~~~~~~~~~\n",
        "   :copyright: (c) 2019-2024 by Gustavo Landfried.\n",
        "   :license: BSD, see LICENSE for more details.\n",
        "\"\"\"\n",
        "\n",
        "import math;\n",
        "inf = math.inf\n",
        "sqrt2 = math.sqrt(2); sqrt2pi = math.sqrt(2 * math.pi)\n",
        "from scipy.stats import norm\n",
        "from scipy.stats import truncnorm\n",
        "\n",
        "__all__ = ['MU', 'SIGMA', 'Gaussian', 'N01', 'N00', 'Ninf', 'Nms']\n",
        "\n",
        "MU = 0.0\n",
        "SIGMA = 6\n",
        "PI = SIGMA**-2\n",
        "TAU = PI * MU\n",
        "\n",
        "\n",
        "\n",
        "class Gaussian(object):\n",
        "    #\n",
        "    # Constructor\n",
        "    def __init__(self,mu=MU, sigma=SIGMA):\n",
        "        if sigma >= 0.0:\n",
        "            self.mu, self.sigma = mu, sigma\n",
        "        else:\n",
        "            raise ValueError(\" sigma should be greater than 0 \")\n",
        "    #\n",
        "    # Iterador\n",
        "    def __iter__(self):\n",
        "        return iter((self.mu, self.sigma))\n",
        "    #\n",
        "    # Print\n",
        "    def __repr__(self):\n",
        "        return 'N(mu={:.3f}, sigma={:.3f})'.format(self.mu, self.sigma)\n",
        "    #\n",
        "    # pi = 1/sigma^2\n",
        "    @property\n",
        "    def pi(self):\n",
        "        if self.sigma > 0.0:\n",
        "            return(1/self.sigma**2)\n",
        "        else:\n",
        "            return inf\n",
        "    #\n",
        "    # tau = mu*pi\n",
        "    @property\n",
        "    def tau(self):\n",
        "        if self.sigma > 0.0:\n",
        "            return(self.mu*self.pi)\n",
        "        else:\n",
        "            return 0\n",
        "    #\n",
        "    # N > 0\n",
        "    def __gt__(self, threshold):\n",
        "        # Gaussiana truncada: N > 0.\n",
        "        mu, sigma = self\n",
        "        truncated_norm = truncnorm(\n",
        "            (threshold - mu) / sigma, inf, loc=mu, scale=sigma)\n",
        "        # Devolver la Gaussiana con misma media y desvío\n",
        "        return(Gaussian(truncated_norm.mean(), truncated_norm.std()))\n",
        "    #\n",
        "    # N >= 0\n",
        "    def __ge__(self, threshold):\n",
        "        return self.__gt__(threshold)\n",
        "    #\n",
        "    # N + M\n",
        "    def __add__(self, M):\n",
        "        _mu = self.mu + M.mu\n",
        "        _sigma = math.sqrt(self.sigma**2 + M.sigma**2)\n",
        "        return(Gaussian(_mu, _sigma))\n",
        "    #\n",
        "    # N - M\n",
        "    def __sub__(self, M):\n",
        "        _mu = self.mu - M.mu\n",
        "        _sigma = math.sqrt(self.sigma**2 + M.sigma**2)\n",
        "        return(Gaussian(_mu, _sigma))\n",
        "    #\n",
        "    # N * M\n",
        "    def __mul__(self, M):\n",
        "        if M.pi == 0:\n",
        "            return self\n",
        "        if self.pi == 0:\n",
        "            return M\n",
        "        _pi = (self.pi + M.pi)\n",
        "        _sigma = _pi**-(1/2)\n",
        "        _mu = (self.tau + M.tau)/_pi\n",
        "        return(Gaussian(_mu,_sigma))\n",
        "    def __rmul__(self, other):\n",
        "        return self.__mul__(other)\n",
        "    #\n",
        "    # N / M\n",
        "    def __truediv__(self, M):\n",
        "        _pi = self.pi - M.pi\n",
        "        _sigma = _pi**-(1/2)\n",
        "        _mu = (self.tau - M.tau)/_pi\n",
        "        return(Gaussian(_mu,_sigma))\n",
        "    # Delta\n",
        "    def delta(self, M):\n",
        "        return abs(self.mu - M.mu) , abs(self.sigma - M.sigma)\n",
        "    #\n",
        "    def cdf(self, x):\n",
        "        return norm(*self).cdf(x)\n",
        "    # IsApprox\n",
        "    def isapprox(self, M, tol=1e-4):\n",
        "        return (abs(self.mu - M.mu) < tol) and (abs(self.sigma - M.sigma) < tol)\n",
        "\n",
        "\n",
        "def suma(Ns):\n",
        "    res = Gaussian(0,0) # neutro de la suma\n",
        "    for N in Ns:\n",
        "        res += res + N\n",
        "    return(res)\n",
        "\n",
        "\n",
        "\n",
        "N01 = Gaussian(0,1)\n",
        "N00 = Gaussian(0,0)\n",
        "Ninf = Gaussian(0,inf)\n",
        "Nms = Gaussian(MU, SIGMA)"
      ],
      "metadata": {
        "id": "biyEwQ1JDVJu"
      },
      "execution_count": 9,
      "outputs": []
    },
    {
      "cell_type": "code",
      "source": [
        "#pip install trueskillthroughtime"
      ],
      "metadata": {
        "colab": {
          "base_uri": "https://localhost:8080/"
        },
        "id": "3smAqUpEuv7y",
        "outputId": "e49738c2-009a-4702-d1eb-127915cee999"
      },
      "execution_count": 6,
      "outputs": [
        {
          "output_type": "stream",
          "name": "stdout",
          "text": [
            "Collecting trueskillthroughtime\n",
            "  Downloading trueskillthroughtime-1.1.0-py3-none-any.whl.metadata (12 kB)\n",
            "Downloading trueskillthroughtime-1.1.0-py3-none-any.whl (13 kB)\n",
            "Installing collected packages: trueskillthroughtime\n",
            "Successfully installed trueskillthroughtime-1.1.0\n"
          ]
        }
      ]
    },
    {
      "cell_type": "code",
      "source": [
        "# -*- coding: utf-8 -*-\n",
        "#from Gaussiana import *\n",
        "\n",
        "#habilidades a priori de cada jugador\n",
        "s1 = Gaussian(); s2 = Gaussian(); s3 = Gaussian(); s4 = Gaussian()\n",
        "o = Gaussian(0, 1) # ruido\n",
        "\n",
        "#desempeño individual (habilidad + ruido)\n",
        "p1 = s1 + o; p2 = s2 + o; p3 = s3 + o; p4 = s4 + o\n",
        "\n",
        "#desempeño del equipo\n",
        "ta = p1 + p2; tb = p3 + p4 #priors\n",
        "\n",
        "d = ta - tb\n",
        "d_approx = d > 0\n",
        "\n",
        "lh_d = d_approx / d\n",
        "\n",
        "lh_ta = lh_d + tb\n",
        "\n",
        "lh_p1 = lh_ta - p2\n",
        "\n",
        "lh_s1 = lh_p1 - o\n",
        "\n",
        "posterior_s1 = s1 * lh_s1\n",
        "\n",
        "# Vamos a testear nuestro resultado con el paquete público.\n",
        "import trueskillthroughtime as ttt\n",
        "\n",
        "s1 = ttt.Gaussian(); s2 = ttt.Gaussian(); s3 = ttt.Gaussian(); s4 = ttt.Gaussian()\n",
        "o = ttt.Gaussian(0, 1) # ruido\n",
        "p1 = s1 + o; p2 = s2 + o; p3 = s3 + o; p4 = s4 + o\n",
        "ta = p1 + p2; tb = p3 + p4\n",
        "d = ta - tb\n",
        "lf_d = ttt.approx(d, margin=0, tie=False)/d\n",
        "lh_ta = lh_d + tb\n",
        "lh_p1 = lh_ta - p2\n",
        "lh_s1 = lh_p1 - o\n",
        "posterior_s1_ttt = s1 * lh_s1\n",
        "assert posterior_s1_ttt.isapprox(posterior_s1)\n",
        "\n",
        "\n",
        "\n",
        "import numpy as np\n",
        "from matplotlib import pyplot as plt\n",
        "x_grid = np.arange(-6,6,0.01)\n",
        "plt.plot(x_grid, norm(*Gaussian(2,1)).pdf(x_grid) * (x_grid>0)  )\n",
        "plt.plot(x_grid, norm(*(Gaussian(2,1) > 0)).pdf(x_grid)  )\n",
        "plt.show()\n",
        "### N(mu=2.055, sigma=0.942)"
      ],
      "metadata": {
        "colab": {
          "base_uri": "https://localhost:8080/",
          "height": 430
        },
        "id": "4dQte5jVu2qP",
        "outputId": "7b06cbe4-f908-43f3-d753-a9939ded18b2"
      },
      "execution_count": 10,
      "outputs": [
        {
          "output_type": "display_data",
          "data": {
            "text/plain": [
              "<Figure size 640x480 with 1 Axes>"
            ],
            "image/png": "[encoded data removed]"
          },
          "metadata": {}
        }
      ]
    },
    {
      "cell_type": "code",
      "source": [
        "BETA = 1.0 # El desvío estándar del desempeño: N(desempeño | mu=habilidad, sd=BETA).\n",
        "\n",
        "class Evento(object):\n",
        "    #\n",
        "    # Constructor\n",
        "    def __init__(self, equipos):\n",
        "        # Ejemplo:\n",
        "        # equipos = [ [priorA, priorB], [priorC]  ]\n",
        "        # donde el el orden indica qué equipo ganó.\n",
        "        self.equipos = equipos\n",
        "    #\n",
        "    # Representación\n",
        "    def __repr__(self):\n",
        "        return f'{self.equipos}'\n",
        "    #\n",
        "    @property\n",
        "    def desempeño_individuos(self):\n",
        "        # Genera todos los desempeños sumando ruido a las habilidades\n",
        "        res = []\n",
        "        ruido = Gaussian(0,BETA)\n",
        "        for equipo in self.equipos:\n",
        "            res.append([]) # Contenedor de equipo\n",
        "            for habilidad in equipo:\n",
        "                res[-1].append(habilidad + ruido)\n",
        "        return(res)\n",
        "    #\n",
        "    @property\n",
        "    def desempeño_equipos(self):\n",
        "        # Suma de los desempeños individuales\n",
        "        res = []\n",
        "        for equipo in self.desempeño_individuos:\n",
        "        # ta = sum(pi) para cada equipo\n",
        "            sumo = suma(equipo)\n",
        "            res.append(sumo)\n",
        "        return res\n",
        "    #\n",
        "    @property\n",
        "    def diferencia_equipos(self):\n",
        "        print(self.desempeño_equipos)\n",
        "        ta, tb = self.desempeño_equipos\n",
        "        d = ta - tb\n",
        "        return d\n",
        "\n",
        "    #\n",
        "    @property\n",
        "    def marginal_diferencia(self):\n",
        "        # P(diferencia, resultado) = P(diferencia) > 0\n",
        "        d = self.diferencia_equipos\n",
        "        distribucion = Gaussian(mu=d, sigma=BETA)\n",
        "        e = 1.0 - distribucion.cdf(0)\n",
        "        return e\n",
        "    #\n",
        "    @property\n",
        "    def likelihood_diferencia(self):\n",
        "        d = self.diferencia_equipos\n",
        "        # Capaz en vez de d tenga que usar Gaussian(d.mu, BETA) PREGUNTAR igual d ya es una Gaussiana\n",
        "        pd_gana = d > 0 # Es lo que esta en la practica pero capaz le falta algo\n",
        "        likelihood = pd_gana / d\n",
        "        return likelihood\n",
        "    #\n",
        "    @property\n",
        "    def likelihood_equipos(self):\n",
        "        # I(d = ta - tb) Diferencia entre los desempeños de los equipos\n",
        "        # ta = tb + d; tb = ta - d\n",
        "        d = self.likelihood_diferencia\n",
        "        ta, tb = self.desempeño_equipos\n",
        "        lh_a = d + tb\n",
        "        lh_b = d - ta\n",
        "        return [lh_a , lh_b]\n",
        "\n",
        "    #\n",
        "    @property\n",
        "    def likelihood_desempeño(self):\n",
        "        evento = self\n",
        "        #\n",
        "        desempeño_individuos = evento.desempeño_individuos\n",
        "        likelihood_equipos = evento.likelihood_equipos\n",
        "        #\n",
        "        res = []\n",
        "        for e in range(len(evento.equipos)):\n",
        "            res.append([])\n",
        "            for i in range(len(evento.equipos[e])):\n",
        "                # te = p1 + p2 + p3\n",
        "                #        <=>\n",
        "                # p1 = te - (p2 + p3)\n",
        "                te = likelihood_equipos[e]\n",
        "                equipo_sin_i = suma(desempeño_individuos[e]) - desempeño_individuos[e][i] # No usar sum(), usar suma()\n",
        "                likelihood_individuo = te - equipo_sin_i\n",
        "                res[-1].append(likelihood_individuo)\n",
        "        return res\n",
        "\n",
        "    #\n",
        "    @property\n",
        "    def likelihood_habilidad(self):\n",
        "        res = []\n",
        "        ruido = Gaussian(0,BETA)\n",
        "        for equipo in self.likelihood_desempeño:\n",
        "            res.append([])\n",
        "            for lh_p in equipo:\n",
        "                lh_s = lh_p - ruido\n",
        "                res[-1].append(lh_s)\n",
        "        return res\n",
        "    #\n",
        "    @property\n",
        "    def posterior(self):\n",
        "        likelihood = self.likelihood_habilidad\n",
        "        prior = self.equipos\n",
        "        #\n",
        "        res = []\n",
        "        for e in range(len(prior)):\n",
        "            res.append([])\n",
        "            for i in range(len(prior[e])):\n",
        "              posterior_s = prior[e][i] * likelihood[e][i]\n",
        "              res[-1].append(posterior_s)\n",
        "        return res\n",
        "\n",
        "\n",
        "priorA = Gaussian(3,1)\n",
        "priorB = Gaussian(2,1)\n",
        "priorC = Gaussian(6,1)\n",
        "Equipo1, Equipo2 = Evento([ [priorA, priorB], [priorC]]).posterior\n",
        "#\n",
        "print(\"Para el Equipo 1 es\" , Equipo1) # Me da re distinto PREGUNTAR\n",
        "#[N(mu=3.439, sigma=0.938), N(mu=2.439, sigma=0.938)]\n",
        "print(\"Para el Equipo 2 es\" , Equipo2) # Me da un poco menos distinto\n",
        "#[N(mu=5.561, sigma=0.938)]\n",
        "\n",
        "#\n",
        "\n",
        "#import trueskillthroughtime as ttt\n",
        "priorA = ttt.Player(ttt.Gaussian(3,1))\n",
        "priorB = ttt.Player(ttt.Gaussian(2,1))\n",
        "priorC = ttt.Player(ttt.Gaussian(6,1))\n",
        "Equipo1, Equipo2 = ttt.Game([ [priorA, priorB], [priorC]]).posteriors()\n",
        "#\n",
        "print(Equipo1)\n",
        "#[N(mu=3.439, sigma=0.938), N(mu=2.439, sigma=0.938)]\n",
        "print(Equipo2)\n",
        "#[N(mu=5.561, sigma=0.938)]\n"
      ],
      "metadata": {
        "id": "j-bHE8PADpnW",
        "colab": {
          "base_uri": "https://localhost:8080/"
        },
        "outputId": "887af5f7-60ee-4a20-c9b9-1220d7b84aac"
      },
      "execution_count": 20,
      "outputs": [
        {
          "output_type": "stream",
          "name": "stdout",
          "text": [
            "[N(mu=8.000, sigma=2.449), N(mu=6.000, sigma=1.414)]\n",
            "Para el Equipo 1 es [N(mu=3.118, sigma=0.977), N(mu=2.118, sigma=0.977)]\n",
            "Para el Equipo 2 es [N(mu=5.561, sigma=0.977)]\n",
            "[N(mu=3.439, sigma=0.938), N(mu=2.439, sigma=0.938)]\n",
            "[N(mu=5.561, sigma=0.938)]\n"
          ]
        }
      ]
    }
  ]
}
